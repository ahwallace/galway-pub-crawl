{
 "cells": [
  {
   "cell_type": "code",
   "execution_count": 1,
   "metadata": {},
   "outputs": [],
   "source": [
    "import osmnx as ox\n",
    "import gradio as gr\n",
    "import pandas as pd\n",
    "import plotly.express as px\n",
    "from pub_crawl_script import pub_crawl"
   ]
  },
  {
   "cell_type": "code",
   "execution_count": 2,
   "metadata": {},
   "outputs": [],
   "source": [
    "df = pd.read_csv('galway_pubs.csv')\n",
    "G =  ox.io.load_graphml('galway.graphml')"
   ]
  },
  {
   "cell_type": "code",
   "execution_count": 4,
   "metadata": {},
   "outputs": [
    {
     "name": "stderr",
     "output_type": "stream",
     "text": [
      "C:\\Users\\Aidan\\AppData\\Local\\Temp\\ipykernel_12084\\3895411974.py:37: UserWarning:\n",
      "\n",
      "`height` is deprecated in `Interface()`, please use it within `launch()` instead.\n",
      "\n"
     ]
    },
    {
     "name": "stdout",
     "output_type": "stream",
     "text": [
      "Running on local URL:  http://127.0.0.1:7861\n",
      "\n",
      "To create a public link, set `share=True` in `launch()`.\n"
     ]
    },
    {
     "data": {
      "text/html": [
       "<div><iframe src=\"http://127.0.0.1:7861/\" width=\"100%\" height=\"500\" allow=\"autoplay; camera; microphone; clipboard-read; clipboard-write;\" frameborder=\"0\" allowfullscreen></iframe></div>"
      ],
      "text/plain": [
       "<IPython.core.display.HTML object>"
      ]
     },
     "metadata": {},
     "output_type": "display_data"
    },
    {
     "data": {
      "text/plain": []
     },
     "execution_count": 4,
     "metadata": {},
     "output_type": "execute_result"
    },
    {
     "name": "stderr",
     "output_type": "stream",
     "text": [
      "c:\\Users\\Aidan\\Documents\\galway-pub-crawl\\pub_crawl_script.py:83: UserWarning:\n",
      "\n",
      "Matplotlib is currently using agg, which is a non-GUI backend, so cannot show the figure.\n",
      "\n"
     ]
    }
   ],
   "source": [
    "def galway_map():\n",
    "    fig = px.scatter_mapbox(df, lat='latitude', lon='longitude', hover_name='name', \n",
    "                                  # hover_data=f\"Address: {str(df['address'])}\", \n",
    "                                  color_discrete_sequence=[\"fuchsia\"], \n",
    "                                  zoom=14, height=300, opacity=0.8, size=[1]*len(df), size_max=12)\n",
    "    fig.update_layout(mapbox_style='open-street-map',\n",
    "                      margin={\"r\": 0, \"t\": 0, \"l\": 0, \"b\": 0},\n",
    "                      mapbox_bounds={\"west\": -9.0644, \"east\": -9.0456, \"south\": 53.2691, \"north\": 53.2763})\n",
    "    return fig\n",
    "\n",
    "def execute_crawl_optimiser(start_pub, pubs_considered):\n",
    "    crawler = pub_crawl(df, G)\n",
    "    crawler.optimise(start_pub, pubs_considered)\n",
    "    route_str = ''\n",
    "    for i in range(len(crawler.optimal_route)-1):\n",
    "        route_str += f'{crawler.optimal_route[i]} --> '\n",
    "    route_str += crawler.optimal_route[-1]\n",
    "    return crawler.optimal_distance, route_str, crawler.plot_route(crawler.optimal_route)\n",
    "\n",
    "with gr.Blocks() as pub_crawl_ui:\n",
    "    with gr.Row():\n",
    "        with gr.Column():\n",
    "            map = gr.Plot(galway_map, label='Galway Map')\n",
    "        with gr.Column():\n",
    "            start_pub = gr.Dropdown(df['name'].to_list(), value='Caribou', label=\"Start Pub\")\n",
    "            pubs_considered = gr.CheckboxGroup(df['name'].to_list(), label='Pubs to Visit', \n",
    "            info='Please make sure \"Start Pub\" is selected')\n",
    "    with gr.Row():\n",
    "        run_btn = gr.Button(\"Run\")\n",
    "    with gr.Row():\n",
    "        with gr.Column(scale=1):\n",
    "            distance = gr.Number(value=None, label=\"Route Distance (meters)\")\n",
    "        with gr.Column(scale=3):\n",
    "            route = gr.Textbox(label=\"Route\")\n",
    "    with gr.Row():\n",
    "        route_plot = gr.Plot(label=\"Route Map\", height=1200)\n",
    "    \n",
    "    run_btn.click(fn=execute_crawl_optimiser, inputs=[start_pub, pubs_considered], outputs=[distance, route, route_plot], api_name=\"pub_crawl\")\n",
    "\n",
    "pub_crawl_ui.launch()"
   ]
  }
 ],
 "metadata": {
  "kernelspec": {
   "display_name": "Python 3",
   "language": "python",
   "name": "python3"
  },
  "language_info": {
   "codemirror_mode": {
    "name": "ipython",
    "version": 3
   },
   "file_extension": ".py",
   "mimetype": "text/x-python",
   "name": "python",
   "nbconvert_exporter": "python",
   "pygments_lexer": "ipython3",
   "version": "3.11.3"
  },
  "orig_nbformat": 4
 },
 "nbformat": 4,
 "nbformat_minor": 2
}
